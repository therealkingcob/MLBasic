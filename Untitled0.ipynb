{
  "nbformat": 4,
  "nbformat_minor": 0,
  "metadata": {
    "colab": {
      "provenance": [],
      "authorship_tag": "ABX9TyMaBynp1JM4JVllYzRrQPpS",
      "include_colab_link": true
    },
    "kernelspec": {
      "name": "python3",
      "display_name": "Python 3"
    },
    "language_info": {
      "name": "python"
    }
  },
  "cells": [
    {
      "cell_type": "markdown",
      "metadata": {
        "id": "view-in-github",
        "colab_type": "text"
      },
      "source": [
        "<a href=\"https://colab.research.google.com/github/therealkingcob/MLBasic/blob/main/Untitled0.ipynb\" target=\"_parent\"><img src=\"https://colab.research.google.com/assets/colab-badge.svg\" alt=\"Open In Colab\"/></a>"
      ]
    },
    {
      "cell_type": "code",
      "execution_count": 86,
      "metadata": {
        "colab": {
          "base_uri": "https://localhost:8080/"
        },
        "id": "6NO3i0KtX62q",
        "outputId": "8c730ff8-3e77-42fd-b2fc-aa9e379ec345"
      },
      "outputs": [
        {
          "output_type": "execute_result",
          "data": {
            "text/plain": [
              "np.float64(0.11920292202211755)"
            ]
          },
          "metadata": {},
          "execution_count": 86
        }
      ],
      "source": [
        "import numpy as np\n",
        "\n",
        "def smooth(x, deriv=False): #smoothing fuction\n",
        "  if deriv==True:\n",
        "    return x*(1-x) #when deriv is true, we have a parabola\n",
        "  return 1/(1+np.exp(x*-1)) #when deriv is false, it uses the sigmoid fuction to bound the values, as x goes to infinity, this function goes to 1\n",
        "\n",
        "\n",
        "smooth(-2)"
      ]
    },
    {
      "cell_type": "code",
      "source": [
        "X=np.array([[0,0,1],\n",
        "            [0,1,1],\n",
        "            [1,0,1],\n",
        "            [1,1,1]])  #our input dataset, its a 4x3 array"
      ],
      "metadata": {
        "id": "X-cREwknJIHh"
      },
      "execution_count": 58,
      "outputs": []
    },
    {
      "cell_type": "code",
      "source": [
        "Y=np.array([[0,0,1,1]]).T   #our output dataset, its originally a 1x4 dataset, but .T takes the transpose of this giving us a 4x1 dataset"
      ],
      "metadata": {
        "id": "nk96YgwGJYEb"
      },
      "execution_count": 59,
      "outputs": []
    },
    {
      "cell_type": "code",
      "source": [
        "np.random.seed(1)"
      ],
      "metadata": {
        "id": "5QbZ_tH8Mcbf"
      },
      "execution_count": 60,
      "outputs": []
    },
    {
      "cell_type": "code",
      "source": [
        "np.random.seed(1)\n",
        "\n",
        "syn = 2*np.random.random((3,1))-1   #we have a array that is 3 rows by 1 column, etc a 3x1, with the mean of 0, becuase the mean should be 0.5, multipying that by 2 is\n",
        "syn\n"
      ],
      "metadata": {
        "colab": {
          "base_uri": "https://localhost:8080/"
        },
        "id": "3jwDx16eMl1e",
        "outputId": "ba63b2eb-1136-4030-a864-e83b2f26a8df"
      },
      "execution_count": 61,
      "outputs": [
        {
          "output_type": "execute_result",
          "data": {
            "text/plain": [
              "array([[-0.16595599],\n",
              "       [ 0.44064899],\n",
              "       [-0.99977125]])"
            ]
          },
          "metadata": {},
          "execution_count": 61
        }
      ]
    },
    {
      "cell_type": "code",
      "source": [
        "for iter in range(10000):\n",
        "  l0 = X  #this is our input vector, but in a different variable\n",
        "  l1 = smooth(np.dot(l0, syn)) # we are smoothing out the matrix multiplcation given from the input * the syn, which are the weights\n",
        "\n",
        "  l1_error = Y-l1  #we are finding the error between the expected output, and the calculated output, using elementwise subtraction\n",
        "  l1_delta = l1_error  * smooth(l1, True)\n",
        "\n",
        "  #now we update the weights based on the error\n",
        "  syn+=np.dot(l0.T,l1_delta)\n",
        "\n",
        "np.set_printoptions(suppress=True)\n",
        "l1"
      ],
      "metadata": {
        "colab": {
          "base_uri": "https://localhost:8080/"
        },
        "id": "VOhluXIJNdUH",
        "outputId": "ff9588d3-789d-4118-dcef-197baab392c8"
      },
      "execution_count": 89,
      "outputs": [
        {
          "output_type": "execute_result",
          "data": {
            "text/plain": [
              "array([[0.00020307],\n",
              "       [0.0001658 ],\n",
              "       [0.99986463],\n",
              "       [0.9998342 ]])"
            ]
          },
          "metadata": {},
          "execution_count": 89
        }
      ]
    },
    {
      "cell_type": "code",
      "source": [],
      "metadata": {
        "id": "YcsibRk3RXiK"
      },
      "execution_count": 62,
      "outputs": []
    }
  ]
}